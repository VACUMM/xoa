{
 "cells": [
  {
   "cell_type": "markdown",
   "metadata": {},
   "source": [
    "# Quickly plot a meridional section of CROCO outputs\n",
    "\n",
    "This notebook shows how xoa takes advantage of CF conventions.\n",
    "\n",
    "* Read of the CROCO model outputs.\n",
    "* Computation of the depths from s-coordinates with the [xoa.sigma](https://vacumm.github.io/xoa/api/xoa.sigma.html) module.\n",
    "* Find the name of coordinates with the [xoa.cf](https://vacumm.github.io/xoa/api/xoa.cf.html) module,\n",
    "* Make a simple plot.\n",
    "\n",
    "## Inits\n",
    "Import needed modules and register xarray accessors."
   ]
  },
  {
   "cell_type": "code",
   "execution_count": null,
   "metadata": {},
   "outputs": [],
   "source": [
    "import xarray as xr\n",
    "import cmocean\n",
    "import xoa\n",
    "xoa.register_accessors()"
   ]
  },
  {
   "cell_type": "markdown",
   "metadata": {},
   "source": [
    "## Read the model\n",
    "This sample is a meridional extraction of a full 3D CROCO output."
   ]
  },
  {
   "cell_type": "code",
   "execution_count": null,
   "metadata": {
    "scrolled": true
   },
   "outputs": [],
   "source": [
    "ds = xoa.open_data_sample(\"croco.south-africa.meridional.nc\")\n",
    "ds"
   ]
  },
  {
   "cell_type": "markdown",
   "metadata": {},
   "source": [
    "## Compute depths from s-coordinates\n",
    "Decode the dataset according to the CF cnvensions:\n",
    "\n",
    "1. Find sigma terms\n",
    "2. Compute depths\n",
    "3. Assigna depths as coordinates"
   ]
  },
  {
   "cell_type": "code",
   "execution_count": null,
   "metadata": {
    "scrolled": true
   },
   "outputs": [],
   "source": [
    "ds = ds.decode_sigma()\n",
    "ds.depth"
   ]
  },
  {
   "cell_type": "markdown",
   "metadata": {},
   "source": [
    "## Find coordinate names from CF conventions\n",
    "The `depth` were assigned as coordinates at the previous stage.\n",
    "We use the `cf` data array accessor to easlily access the latitude coordinate array."
   ]
  },
  {
   "cell_type": "code",
   "execution_count": null,
   "metadata": {},
   "outputs": [],
   "source": [
    "temp = ds.temp.squeeze()\n",
    "lat_name = temp.cf.lat.name\n",
    "depth_name = temp.cf.depth.name"
   ]
  },
  {
   "cell_type": "markdown",
   "metadata": {},
   "source": [
    "## Plot temperature\n",
    "Make a basic contour plot."
   ]
  },
  {
   "cell_type": "code",
   "execution_count": null,
   "metadata": {
    "scrolled": false
   },
   "outputs": [],
   "source": [
    "temp.plot.contourf(lat_name, depth_name, cmap=\"cmo.thermal\", levels=30)\n",
    "temp.plot.contour(lat_name, depth_name, colors='w', levels=30, linewidths=.3);"
   ]
  }
 ],
 "metadata": {
  "kernelspec": {
   "display_name": "Python 3",
   "language": "python",
   "name": "python3"
  },
  "language_info": {
   "codemirror_mode": {
    "name": "ipython",
    "version": 3
   },
   "file_extension": ".py",
   "mimetype": "text/x-python",
   "name": "python",
   "nbconvert_exporter": "python",
   "pygments_lexer": "ipython3",
   "version": "3.7.6"
  },
  "latex_envs": {
   "LaTeX_envs_menu_present": true,
   "autoclose": false,
   "autocomplete": true,
   "bibliofile": "biblio.bib",
   "cite_by": "apalike",
   "current_citInitial": 1,
   "eqLabelWithNumbers": true,
   "eqNumInitial": 1,
   "hotkeys": {
    "equation": "Ctrl-E",
    "itemize": "Ctrl-I"
   },
   "labels_anchors": false,
   "latex_user_defs": false,
   "report_style_numbering": false,
   "user_envs_cfg": false
  },
  "toc": {
   "base_numbering": 1,
   "nav_menu": {},
   "number_sections": true,
   "sideBar": true,
   "skip_h1_title": false,
   "title_cell": "Table of Contents",
   "title_sidebar": "Contents",
   "toc_cell": false,
   "toc_position": {},
   "toc_section_display": true,
   "toc_window_display": false
  }
 },
 "nbformat": 4,
 "nbformat_minor": 4
}
